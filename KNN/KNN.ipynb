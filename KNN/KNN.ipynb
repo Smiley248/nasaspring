{
 "cells": [
  {
   "cell_type": "raw",
   "metadata": {},
   "source": [
    "TO DO:\n",
    "    Optimize k\n",
    "    Testing prediction"
   ]
  },
  {
   "cell_type": "code",
   "execution_count": null,
   "metadata": {},
   "outputs": [],
   "source": [
    "import numpy as np\n",
    "from math import sqrt\n",
    "import matplotlib.pyplot as plt\n",
    "from matplotlib.colors import ListedColormap\n",
    "from sklearn import neighbors\n",
    "import pandas as pd\n",
    "from pandas import DataFrame"
   ]
  },
  {
   "cell_type": "markdown",
   "metadata": {},
   "source": [
    "### Load and format the data"
   ]
  },
  {
   "cell_type": "code",
   "execution_count": null,
   "metadata": {},
   "outputs": [],
   "source": [
    "parameterDF = pd.read_csv(\"ParameterData.csv\", header=0, index_col=0, sep=',')\n",
    "gravity, angle, stretch, length, mass, spring, success = parameterDF.values \n",
    "\n",
    "# Also group the successes and failures for plotting later\n",
    "groups = parameterDF.T.groupby( parameterDF.T.columns[-1] ) # group by the last parameter (performance metric)\n",
    "successGroup = groups.get_group(1)\n",
    "failureGroup = groups.get_group(0)"
   ]
  },
  {
   "cell_type": "markdown",
   "metadata": {},
   "source": [
    "### Prepare the KNN classifier and plots"
   ]
  },
  {
   "cell_type": "code",
   "execution_count": null,
   "metadata": {},
   "outputs": [],
   "source": [
    "k = (int)( sqrt(parameterDF.shape[1]) ) # k nearest neighbors\n",
    "h = 0.005  # step size in the mesh\n",
    "cmap = ListedColormap( ['#F08080', '#98FB98'] ) # colors for prediction mesh\n",
    "params = parameterDF.T.columns.tolist()[:-1] # Use dataframe labels for plot labels"
   ]
  },
  {
   "cell_type": "code",
   "execution_count": null,
   "metadata": {},
   "outputs": [],
   "source": [
    "fig, axarr = plt.subplots( len(params), len(params), figsize=(16,16) )\n",
    "classifiers = []\n",
    "\n",
    "for rowNum in range( len(params) ):\n",
    "    \n",
    "    for colNum in range( len(params) ):\n",
    "        \n",
    "        # Get training data for fitting KNN\n",
    "        x1 = parameterDF.T[ params[colNum] ] # x-axis in plot\n",
    "        x2 = parameterDF.T[ params[rowNum] ] # y-axis in plot\n",
    "        X = np.column_stack( (x1, x2) )\n",
    "        classifier = neighbors.KNeighborsClassifier( k, weights='distance' ).fit( X, success )\n",
    "        classifiers.append(classifier)\n",
    "    \n",
    "        # Plot the decision boundary, assigning a color to each\n",
    "        # point in the mesh [x_min, x_max]x[y_min, y_max].\n",
    "        xMin, xMax = x1.min(), x1.max()\n",
    "        yMin, yMax = x2.min(), x2.max()\n",
    "        xx, yy = np.meshgrid(np.arange(xMin-1, xMax+1, h),\n",
    "                             np.arange(yMin-1, yMax+1, h))\n",
    "        Z = classifier.predict(np.c_[xx.ravel(), yy.ravel()])\n",
    "        Z = Z.reshape(xx.shape)       \n",
    "        axarr[rowNum,colNum].pcolormesh(xx, yy, Z, cmap=cmap)\n",
    "    \n",
    "        # Plot the training data\n",
    "        xSuccesses = successGroup[ params[colNum] ] \n",
    "        ySuccesses = successGroup[ params[rowNum] ]\n",
    "        axarr[rowNum,colNum].scatter( xSuccesses, ySuccesses, marker='o', color='#006400', s=70 )\n",
    "    \n",
    "        xFailures = failureGroup[ params[colNum] ]\n",
    "        yFailures = failureGroup[ params[rowNum] ]\n",
    "        axarr[rowNum,colNum].scatter( xFailures, yFailures, marker='s', color='#FF0000', s=50 )\n",
    "\n",
    "        axarr[rowNum,colNum].set_xlim( xMin-0.01, xMax+0.01 )\n",
    "        axarr[rowNum,colNum].set_ylim( yMin-0.01, yMax+0.01 )\n",
    "\n",
    "# Fine tune the plots   \n",
    "topPlots = axarr[0, :]\n",
    "bottomPlots = axarr[-1, :]  \n",
    "leftPlots = axarr[:, 0]\n",
    "rightPlots = axarr[:, -1]\n",
    "\n",
    "for count in range( len(params) ):\n",
    "    # X-axes\n",
    "    topPlots[count].xaxis.tick_top() \n",
    "    topPlots[count].xaxis.set_label_position( 'top' ) \n",
    "    topPlots[count].set_xlabel( params[count] ) \n",
    "    bottomPlots[count].set_xlabel( params[count] )  \n",
    "    if count != 0 and count != len(params)-1: # for the middle plots\n",
    "        plt.setp( [ ax.get_xticklabels() for ax in axarr[count, :] ], visible=False )\n",
    "    # Y-axes\n",
    "    rightPlots[count].yaxis.tick_right()\n",
    "    rightPlots[count].yaxis.set_label_position( 'right' )\n",
    "    rightPlots[count].set_ylabel( params[count] )\n",
    "    leftPlots[count].set_ylabel( params[count] )\n",
    "    if count != 0 and count != len(params)-1: # for the middle plots\n",
    "        plt.setp( [ ax.get_yticklabels() for ax in axarr[:, count] ], visible=False )\n",
    "\n",
    "plt.setp( [ ax.get_xticklabels() for ax in axarr[0, :] ], rotation=45 ) \n",
    "plt.setp( [ ax.get_xticklabels() for ax in axarr[-1, :] ], rotation=45 )\n",
    "plt.subplots_adjust( hspace=0, wspace=0 )\n",
    "\n",
    "plt.savefig('KNNPlot.png')"
   ]
  }
 ],
 "metadata": {
  "kernelspec": {
   "display_name": "Python 3",
   "language": "python",
   "name": "python3"
  },
  "language_info": {
   "codemirror_mode": {
    "name": "ipython",
    "version": 3
   },
   "file_extension": ".py",
   "mimetype": "text/x-python",
   "name": "python",
   "nbconvert_exporter": "python",
   "pygments_lexer": "ipython3",
   "version": "3.5.4"
  }
 },
 "nbformat": 4,
 "nbformat_minor": 2
}
