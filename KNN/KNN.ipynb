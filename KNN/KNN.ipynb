{
 "cells": [
  {
   "cell_type": "raw",
   "metadata": {},
   "source": [
    "TO DO:\n",
    "    Make params list simply the list of data frame labels\n",
    "    Optimizing k?\n",
    "    Verify proper plotting"
   ]
  },
  {
   "cell_type": "code",
   "execution_count": null,
   "metadata": {},
   "outputs": [],
   "source": [
    "import numpy as np\n",
    "import matplotlib.pyplot as plt\n",
    "from matplotlib.colors import ListedColormap\n",
    "from sklearn import neighbors\n",
    "import pandas as pd\n",
    "from pandas import DataFrame"
   ]
  },
  {
   "cell_type": "markdown",
   "metadata": {},
   "source": [
    "### Load and format the data"
   ]
  },
  {
   "cell_type": "code",
   "execution_count": null,
   "metadata": {},
   "outputs": [],
   "source": [
    "parameterDF = pd.read_csv(\"ParameterData.csv\", header=0, index_col=0, sep=',')\n",
    "gravity, angle, stretch, length, mass, spring, success = parameterDF.values \n",
    "\n",
    "# Also group the successes and failures for plotting later\n",
    "groups = parameterDF.T.groupby( 'Success' )\n",
    "successGroup = groups.get_group(1)\n",
    "failureGroup = groups.get_group(0)"
   ]
  },
  {
   "cell_type": "markdown",
   "metadata": {},
   "source": [
    "### Prepare the KNN classifier and plots"
   ]
  },
  {
   "cell_type": "code",
   "execution_count": null,
   "metadata": {},
   "outputs": [],
   "source": [
    "k = 1 # for nearest neighbors\n",
    "h = .001  # step size in the mesh\n",
    "cmap = ListedColormap( ['#F08080', '#98FB98'] )\n",
    "params = ['Gravity', 'Initial Angle', 'Initial Stretch', 'Length', 'Mass', 'Spring']"
   ]
  },
  {
   "cell_type": "code",
   "execution_count": null,
   "metadata": {},
   "outputs": [],
   "source": [
    "fig, axarr = plt.subplots( len(params), len(params), figsize=(15,15) )\n",
    "\n",
    "for rowNum in range(len(params)):\n",
    "    \n",
    "    for colNum in range(len(params)):\n",
    "        \n",
    "        # Get training data for fitting KNN\n",
    "        x1 = parameterDF.T[ params[colNum] ] \n",
    "        x2 = parameterDF.T[ params[rowNum] ]\n",
    "        X = np.column_stack( (x1, x2) )\n",
    "        classifier = neighbors.KNeighborsClassifier( k, weights='distance' ).fit( X, success )\n",
    "    \n",
    "        # Plot the decision boundary, assigning a color to each\n",
    "        # point in the mesh [x_min, x_max]x[y_min, y_max].\n",
    "        yMin, yMax = x2.min(), x2.max()\n",
    "        xMin, xMax = x1.min(), x1.max()\n",
    "        xx, yy = np.meshgrid(np.arange(xMin-1, xMax+1, h),\n",
    "                             np.arange(yMin-1, yMax+1, h))\n",
    "        Z = classifier.predict(np.c_[xx.ravel(), yy.ravel()])\n",
    "        Z = Z.reshape(xx.shape)       \n",
    "        axarr[rowNum,colNum].pcolormesh(xx, yy, Z, cmap=cmap)\n",
    "    \n",
    "        # Plot the training data\n",
    "        xSuccesses = successGroup[ params[colNum] ] \n",
    "        ySuccesses = successGroup[ params[rowNum] ]\n",
    "        axarr[rowNum,colNum].scatter( xSuccesses, ySuccesses, marker='o', color='#006400', s=70 )\n",
    "    \n",
    "        xFailures = failureGroup[ params[colNum] ]\n",
    "        yFailures = failureGroup[ params[rowNum] ]\n",
    "        axarr[rowNum,colNum].scatter( xFailures, yFailures, marker='s', color='#FF0000', s=50 )\n",
    "\n",
    "        axarr[rowNum,colNum].set_xlim( xMin-0.01, xMax+0.01 )\n",
    "        axarr[rowNum,colNum].set_ylim( yMin-0.01, yMax+0.01 )\n",
    "\n",
    "# Fine tune the plots        \n",
    "count = 0 \n",
    "for ax in axarr[-1, :]: # x-axis labels only for the bottom plots\n",
    "    ax.set_xlabel( params[count] )\n",
    "    count += 1 \n",
    "    \n",
    "for ax in axarr[0, :]: # x-axis tick labels on the top of the figure\n",
    "    ax.xaxis.tick_top()\n",
    "    \n",
    "for rowNum in range( 1, len(params)-1 ): # hide x-axis tick labels for the middle rows\n",
    "    plt.setp([ax.get_xticklabels() for ax in axarr[rowNum, :]], visible=False )\n",
    "\n",
    "count = 0\n",
    "for ax in axarr[:, 0]: # y-axis labels only for the left plots\n",
    "    ax.set_ylabel( params[count] )\n",
    "    count += 1   \n",
    "\n",
    "for ax in axarr[:, -1]: # y-axis tick labels on the right of the figure\n",
    "    ax.yaxis.tick_right()\n",
    "\n",
    "for colNum in range( 1, len(params)-1 ): # hide y-axis tick labels for the middle columns\n",
    "    plt.setp([ax.get_yticklabels() for ax in axarr[:, colNum]], visible=False )\n",
    "\n",
    "fig.subplots_adjust(wspace=0.1, hspace=0.1)\n",
    "\n",
    "plt.savefig('KNNPlot.png')"
   ]
  }
 ],
 "metadata": {
  "kernelspec": {
   "display_name": "Python 3",
   "language": "python",
   "name": "python3"
  },
  "language_info": {
   "codemirror_mode": {
    "name": "ipython",
    "version": 3
   },
   "file_extension": ".py",
   "mimetype": "text/x-python",
   "name": "python",
   "nbconvert_exporter": "python",
   "pygments_lexer": "ipython3",
   "version": "3.5.4"
  }
 },
 "nbformat": 4,
 "nbformat_minor": 2
}
