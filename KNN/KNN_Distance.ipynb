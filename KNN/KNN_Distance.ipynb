{
 "cells": [
  {
   "cell_type": "code",
   "execution_count": null,
   "metadata": {},
   "outputs": [],
   "source": [
    "import numpy as np\n",
    "from math import sqrt\n",
    "import matplotlib.pyplot as plt\n",
    "from matplotlib.colors import ListedColormap\n",
    "import matplotlib.gridspec as gridspec\n",
    "from sklearn import neighbors\n",
    "import pandas as pd\n",
    "from pandas import DataFrame, Series\n",
    "from sklearn.model_selection import train_test_split\n",
    "from sklearn.metrics import accuracy_score"
   ]
  },
  {
   "cell_type": "markdown",
   "metadata": {},
   "source": [
    "# Load, format, and normalize the data\n",
    "Data is stored in the file ParameterData.csv with a parameter in each row and a trial in each column (with both row and column headers). The classification indicator must be the last row, labeled 'Class', and contain either the integer 0 or 1."
   ]
  },
  {
   "cell_type": "code",
   "execution_count": null,
   "metadata": {},
   "outputs": [],
   "source": [
    "# Load data into data frame \n",
    "parameterDF = pd.read_csv(\"ParameterData.csv\", header=0, index_col=0, sep=',')"
   ]
  },
  {
   "cell_type": "code",
   "execution_count": null,
   "metadata": {},
   "outputs": [],
   "source": [
    "# Normalize the data\n",
    "params = parameterDF.T.columns.tolist() # List of labels for indexing and plotting\n",
    "normalizedDF = DataFrame()\n",
    "\n",
    "for param in params[:-1]: # Normalize each parameter row (excluding the classification)\n",
    "    normalizedData = ( parameterDF.T[param] - parameterDF.T[param].mean() ) / parameterDF.T[param].std()\n",
    "    normalizedDF = pd.concat( [normalizedDF, Series(normalizedData) ], axis=1 )\n",
    "    normalizedDF.rename( columns={ 0:param } )\n",
    "\n",
    "# Add the classification data back in\n",
    "normalizedDF = normalizedDF.T.append( parameterDF.T[ parameterDF.T.columns[-1] ] )"
   ]
  },
  {
   "cell_type": "code",
   "execution_count": null,
   "metadata": {},
   "outputs": [],
   "source": [
    "# Format the data\n",
    "normDF = normalizedDF.T\n",
    "\n",
    "# Also group by classification\n",
    "groups = normDF.groupby( normDF.columns[-1] )\n",
    "successGroup = groups.get_group(1)\n",
    "failureGroup = groups.get_group(0)"
   ]
  },
  {
   "cell_type": "markdown",
   "metadata": {},
   "source": [
    "# Train KNN classifiers"
   ]
  },
  {
   "cell_type": "code",
   "execution_count": null,
   "metadata": {},
   "outputs": [],
   "source": [
    "# Define some variables\n",
    "numParams = len(params)-1 # For looping through parameters\n",
    "k = (int)( sqrt(parameterDF.shape[1]) ) # k nearest neighbors\n",
    "if k%2 is 0: # Use odd k\n",
    "    k += 1"
   ]
  },
  {
   "cell_type": "code",
   "execution_count": null,
   "metadata": {},
   "outputs": [],
   "source": [
    "classifiers = []\n",
    "XTrains = []\n",
    "XTests = []\n",
    "yTrains = []\n",
    "yTests = []\n",
    "xMins = []\n",
    "xMaxs = []\n",
    "yMins = []\n",
    "yMaxs = []\n",
    "\n",
    "# Fit the classifiers\n",
    "for rowNum in range(numParams):    \n",
    "    for colNum in range(numParams):        \n",
    "        if rowNum < colNum: # Exclude repeats and the same param         \n",
    "            # Get data\n",
    "            x1 = normDF[ params[colNum] ] # x-axis\n",
    "            x2 = normDF[ params[rowNum] ] # y-axis\n",
    "            X = np.column_stack( (x1, x2) )\n",
    "\n",
    "            # Get overall min and max values for plotting and prediction testing\n",
    "            xMin, xMax = x1.min(), x1.max() \n",
    "            yMin, yMax = x2.min(), x2.max()\n",
    "            xMins.append(xMin), xMaxs.append(xMax), yMins.append(yMin), yMaxs.append(yMax)           \n",
    "            \n",
    "            # Split data into training and testing samples\n",
    "            XTrain, XTest, yTrain, yTest = train_test_split(X, normDF['Class'])            \n",
    "            XTrains.append(XTrain), XTests.append(XTest), yTrains.append(yTrain), yTests.append(yTest)\n",
    "            \n",
    "            # Fit the classifier\n",
    "            classifier = neighbors.KNeighborsClassifier( k, weights='distance' ).fit(XTrain, yTrain)\n",
    "            classifiers.append(classifier)"
   ]
  },
  {
   "cell_type": "markdown",
   "metadata": {},
   "source": [
    "## Plot training data & prediction boundaries"
   ]
  },
  {
   "cell_type": "code",
   "execution_count": null,
   "metadata": {},
   "outputs": [],
   "source": [
    "h = 0.005  # Step size in the prediction mesh\n",
    "colMap = ListedColormap( ['#F08080', '#98FB98'] ) # Prediction mesh colors\n",
    "meshXs = []\n",
    "meshYs = []\n",
    "meshPredictions = []                \n",
    " \n",
    "# Predict a meshgrid of data points\n",
    "for num in range(len(classifiers)):    \n",
    "            meshX, meshY = np.meshgrid(np.arange(xMins[num]-1, xMaxs[num]+1, h),\n",
    "                                       np.arange(yMins[num]-1, yMaxs[num]+1, h))\n",
    "            meshXs.append(meshX), meshYs.append(meshY)\n",
    "            meshPredicted = classifiers[num].predict(np.c_[meshX.ravel(), meshY.ravel()])\n",
    "            meshPredicted = meshPredicted.reshape(meshX.shape)\n",
    "            meshPredictions.append(meshPredicted)"
   ]
  },
  {
   "cell_type": "code",
   "execution_count": null,
   "metadata": {},
   "outputs": [],
   "source": [
    "# Prepare the figure for plotting\n",
    "plt.rcParams.update({'figure.autolayout': False})\n",
    "plt.figure( figsize=(15,15) )\n",
    "G = gridspec.GridSpec(numParams-1, numParams-1)\n",
    "plt.subplots_adjust( hspace=0.1, wspace=0.1 ) \n",
    "plt.rc('font', size=25)\n",
    "plt.suptitle('Distance', y=0.9)\n",
    "axarr = []\n",
    "indices = [] # For indexing row and column labels\n",
    "\n",
    "for xNum in range(numParams):\n",
    "    for yNum in range(numParams):\n",
    "        if xNum < yNum:\n",
    "            indices.append( (params[xNum],params[yNum]) ) \n",
    "            ax = plt.subplot( G[yNum-1, xNum] )\n",
    "            axarr.append(ax)\n",
    "            if xNum is 0:\n",
    "                plt.ylabel( params[yNum] )\n",
    "            if xNum is not 0:\n",
    "                plt.yticks( visible=False )\n",
    "            if yNum is numParams-1:\n",
    "                plt.xlabel( params[xNum] )\n",
    "                plt.xticks( rotation=45 )\n",
    "            if yNum is not numParams-1:\n",
    "                plt.xticks( visible=False ) \n",
    "\n",
    "# Plot \n",
    "for num in range(len(indices)):                \n",
    "    # Plot decision boundary\n",
    "    axarr[num].pcolormesh(meshXs[num], meshYs[num], meshPredictions[num], cmap=colMap)\n",
    "    \n",
    "    # Plot the training data\n",
    "    xSuccesses = successGroup[ indices[num][1] ] \n",
    "    ySuccesses = successGroup[ indices[num][0] ]\n",
    "    axarr[num].scatter( xSuccesses, ySuccesses, marker='o', color='#006400' )\n",
    "    \n",
    "    xFailures = failureGroup[ indices[num][1] ]\n",
    "    yFailures = failureGroup[ indices[num][0] ]\n",
    "    axarr[num].scatter( xFailures, yFailures, marker='s', color='#FF0000' )\n",
    "            \n",
    "    axarr[num].set_xlim( -3,3 )\n",
    "    axarr[num].set_ylim( -3,3 ) \n",
    "            \n",
    "plt.savefig('KNNPlot_Distance.png')"
   ]
  },
  {
   "cell_type": "markdown",
   "metadata": {},
   "source": [
    "# Test prediction accuracy"
   ]
  },
  {
   "cell_type": "code",
   "execution_count": null,
   "metadata": {},
   "outputs": [],
   "source": [
    "accuracyScores = []\n",
    "comparisons = []\n",
    "\n",
    "# Create list of labels\n",
    "for xNum in range(numParams):\n",
    "    for yNum in range(numParams):\n",
    "        if xNum < yNum:\n",
    "            comparisons.append( params[xNum]+' vs '+params[yNum] ) "
   ]
  },
  {
   "cell_type": "code",
   "execution_count": null,
   "metadata": {},
   "outputs": [],
   "source": [
    "# Predict test data and find accuracy\n",
    "for num in range(len(classifiers)):\n",
    "    predicted = classifiers[num].predict( XTests[num] )\n",
    "    acc = accuracy_score( yTests[num], predicted )\n",
    "    accuracyScores.append(acc)"
   ]
  },
  {
   "cell_type": "code",
   "execution_count": null,
   "metadata": {
    "scrolled": true
   },
   "outputs": [],
   "source": [
    "# Graph the accuracy (horizontal bar chart)\n",
    "plt.rcParams.update({'figure.autolayout': True})\n",
    "yAxis = np.arange(len(comparisons))\n",
    "plt.rc('font', size=18)\n",
    "plt.figure( figsize=(13,8) )\n",
    "plt.barh(yAxis, accuracyScores, align='center')\n",
    "for yPos, xPos in enumerate(accuracyScores):\n",
    "    plt.gca().text(xPos+0.01, yPos-0.2, str(xPos))\n",
    "plt.yticks(yAxis, comparisons)\n",
    "plt.grid()\n",
    "plt.xlim(0,1.0)\n",
    "plt.xlabel('Accuracy')\n",
    "plt.title('Distance')\n",
    "plt.savefig('KNN_DistAcc_HBars.png')"
   ]
  },
  {
   "cell_type": "code",
   "execution_count": null,
   "metadata": {
    "scrolled": true
   },
   "outputs": [],
   "source": [
    "# Graph the accuracy (vertical bar chart)\n",
    "plt.rcParams.update({'figure.autolayout': True})\n",
    "xAxis = np.arange(len(comparisons))\n",
    "plt.rc('font', size=18)\n",
    "plt.figure( figsize=(13,8) )\n",
    "plt.bar(xAxis, accuracyScores, align='center')\n",
    "for xPos, yPos in enumerate(accuracyScores):\n",
    "    plt.gca().text(xPos-0.5, yPos+0.02, str(yPos))\n",
    "plt.xticks(xAxis+0.3, comparisons)\n",
    "plt.setp( plt.gca().get_xticklabels(), rotation=30, horizontalalignment='right')\n",
    "plt.grid()\n",
    "plt.ylim(0,1.0)\n",
    "plt.ylabel('Accuracy')\n",
    "plt.title('Distance')\n",
    "plt.savefig('KNN_DistAcc_VBars.png')"
   ]
  }
 ],
 "metadata": {
  "kernelspec": {
   "display_name": "Python 3",
   "language": "python",
   "name": "python3"
  },
  "language_info": {
   "codemirror_mode": {
    "name": "ipython",
    "version": 3
   },
   "file_extension": ".py",
   "mimetype": "text/x-python",
   "name": "python",
   "nbconvert_exporter": "python",
   "pygments_lexer": "ipython3",
   "version": "3.5.4"
  }
 },
 "nbformat": 4,
 "nbformat_minor": 2
}
