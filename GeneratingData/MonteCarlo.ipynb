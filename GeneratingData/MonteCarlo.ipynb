{
 "cells": [
  {
   "cell_type": "code",
   "execution_count": null,
   "metadata": {},
   "outputs": [],
   "source": [
    "import scipy.integrate as integrate\n",
    "import numpy as np\n",
    "import matplotlib.pyplot as plt\n",
    "from scipy.stats import norm\n",
    "import math\n",
    "import pandas as pd\n",
    "from pandas import DataFrame, Series"
   ]
  },
  {
   "cell_type": "markdown",
   "metadata": {
    "scrolled": false
   },
   "source": [
    "### Solving the system of differential equations"
   ]
  },
  {
   "cell_type": "markdown",
   "metadata": {
    "scrolled": false
   },
   "source": [
    "Original equations:\n",
    "$$x'' + (k/m)x - (l+x)\\theta'^2 - g cos\\theta = 0$$\n",
    "$$\\theta'' + (g sin\\theta + 2*x'*\\theta') / (l+x)) = 0$$\n",
    "\n",
    "Convert to system of 1st order:\n",
    "$$ y1 = x \\ \\ \\ \\ \\ \\ \\rightarrow \\ \\ \\ \\ \\ \\ \\ y1' = y2 = x' $$ \n",
    "$$ y2 = x' \\ \\ \\ \\ \\ \\ \\rightarrow \\ \\ \\ \\ \\ \\ \\ y2' = x'' $$\n",
    "$$ y3 = \\theta  \\ \\ \\ \\ \\ \\ \\rightarrow \\ \\ \\ \\ \\ \\  y3' = y4 = \\theta' $$\n",
    "$$ y4 = \\theta' \\ \\ \\ \\ \\ \\ \\rightarrow \\ \\ \\ \\ \\ \\ y4' = \\theta'' $$\n",
    "\n",
    "$$ x'' = (-k/m)y1 + (l+y1)(y4)^2 + g cos(y3) $$\n",
    "$$ \\theta'' = (-g sin(y3) - 2*y2*y4)/(l+y1) $$"
   ]
  },
  {
   "cell_type": "code",
   "execution_count": null,
   "metadata": {},
   "outputs": [],
   "source": [
    "# System of 1st order equations used by calling integrate.odeint function\n",
    "def pend(I, t, m, k, l, g):\n",
    "    dy1dt = I[1]                                                  # y1' = x'\n",
    "    dy2dt = (-k/m)*I[0] + (l+I[0])*(I[3])**2 + g*math.cos(I[2])   # y2' = x\"\n",
    "    dy3dt = I[3]                                                  # y3' = theta' \n",
    "    dy4dt = (-g*math.sin(I[2]) - (2.0*I[1]*I[3])) / (l+I[0])      # y4' = theta\" \n",
    "    return [dy1dt, dy2dt, dy3dt, dy4dt]"
   ]
  },
  {
   "cell_type": "markdown",
   "metadata": {},
   "source": [
    "### Performing the Monte Carlo simulation"
   ]
  },
  {
   "cell_type": "code",
   "execution_count": null,
   "metadata": {},
   "outputs": [],
   "source": [
    "totTime = 30 # in seconds\n",
    "numSteps = 30000 # number of steps for totTime (.001 step size)\n",
    "numTrials = 10000"
   ]
  },
  {
   "cell_type": "code",
   "execution_count": null,
   "metadata": {},
   "outputs": [],
   "source": [
    "# Initialize \n",
    "t = np.linspace(0, totTime, numSteps) # time array\n",
    "angleData = DataFrame() \n",
    "angleFailureData = DataFrame()\n",
    "stretchData = DataFrame()\n",
    "stretchFailureData = DataFrame()\n",
    "parameterData = DataFrame() \n",
    "\n",
    "# Run the Monte Carlo\n",
    "for trial in range(numTrials):\n",
    "    \n",
    "    #defining parameters\n",
    "    mass = norm.rvs(1.0, 0.1)             # pendulum mass (kilograms)\n",
    "    spring = norm.rvs(30.0, 0.25)         # spring constant (Newtons/meter)\n",
    "    length = norm.rvs(1.0, 0.1)           # unstretched pendulum length (meters)\n",
    "    gravity = norm.rvs(9.8, 0.1)          # acceleration due to gravity (meters/second^2)\n",
    "    \n",
    "    #defining initial conditions\n",
    "    initStretch = norm.rvs(0.1, 0.01)     # initial stretch (meters)\n",
    "    initStretchPrime = 0                  # initial rate of change in stretch (meters/second)\n",
    "    initAngle = norm.rvs(0.175, 0.01)     # initial angle of swing (radians) (about N(10, 0.6) in degrees)\n",
    "    initAnglePrime = 0                    # initial rate of change in angle (radians/second)\n",
    "    \n",
    "    initial_conditions = [initStretch, initStretchPrime, initAngle, initAnglePrime]    \n",
    "\n",
    "    # calling odeint\n",
    "    results = DataFrame(integrate.odeint(pend, initial_conditions, t, \n",
    "                                         args=(mass, spring, length, gravity)))    \n",
    "    \n",
    "    stretchSeries = Series(results[0])\n",
    "    angleSeries = Series(results[2])\n",
    "   \n",
    "    # Define performance metric\n",
    "    if (angleSeries.max() > math.radians(21)):     \n",
    "        angleFailureData = pd.concat( [angleFailureData, angleSeries], axis=1 )\n",
    "        angleFailureData = angleFailureData.rename( columns={ 2:'trial'+str(trial) } )\n",
    "        stretchFailureData = pd.concat( [stretchFailureData, stretchSeries], axis=1 )\n",
    "        stretchFailureData = stretchFailureData.rename( columns={ 0:'Trial '+str(trial) } )\n",
    "        parameterData = pd.concat( [parameterData, Series( {'Mass':mass, 'Spring':spring, \n",
    "                                   'Length':length, 'Gravity':gravity, \n",
    "                                   'Initial Stretch':initStretch, 'Initial Angle':initAngle,\n",
    "                                   'Success':0} ) ], axis=1 )\n",
    "        parameterData = parameterData.rename( columns={ 0:'Trial '+str(trial) } )        \n",
    "        \n",
    "    else:\n",
    "        angleData = pd.concat( [angleData, angleSeries], axis=1 ) \n",
    "        angleData = angleData.rename( columns={ 2:'Trial '+str(trial) } )    \n",
    "        stretchData = pd.concat( [stretchData, stretchSeries], axis=1 )\n",
    "        stretchData = stretchData.rename( columns={ 0:'Trial '+str(trial) } )\n",
    "        parameterData = pd.concat( [parameterData, Series( {'Mass':mass, 'Spring':spring,\n",
    "                                   'Length':length, 'Gravity':gravity,\n",
    "                                   'Initial Stretch':initStretch, 'Initial Angle':initAngle,\n",
    "                                   'Success':1} ) ], axis=1 )\n",
    "        parameterData = parameterData.rename( columns={ 0:'Trial '+str(trial) } )\n",
    "        \n",
    "# Save parameter data to file\n",
    "parameterData.to_csv('ParameterData.csv', encoding='utf-8')"
   ]
  },
  {
   "cell_type": "markdown",
   "metadata": {},
   "source": [
    "### Plotting angle over time"
   ]
  },
  {
   "cell_type": "code",
   "execution_count": null,
   "metadata": {
    "scrolled": true
   },
   "outputs": [],
   "source": [
    "# Plot angles in degrees\n",
    "plt.figure( figsize=(15, 5) )\n",
    "plt.title('Angle vs Time')\n",
    "plt.xlabel('Time (s)')\n",
    "plt.ylabel('Angle (degrees)')\n",
    "plt.grid()\n",
    "\n",
    "# Plot successes\n",
    "(rowCount, colCount) = angleData.shape\n",
    "for colNum in range(colCount):\n",
    "    radianAngles = angleData.iloc[:, colNum].values\n",
    "    degreeAngles = [ math.degrees(x) for x in radianAngles ]\n",
    "    plt.plot(t, degreeAngles, 'b') \n",
    "  \n",
    "# Plot failures\n",
    "(rowCount, colCount) = angleFailureData.shape  \n",
    "for colNum in range(colCount):\n",
    "    radianAngles = angleFailureData.iloc[:, colNum].values\n",
    "    degreeAngles = [ math.degrees(x) for x in radianAngles ]\n",
    "    plt.plot(t, degreeAngles, 'r')\n",
    "\n",
    "plt.savefig('AngleDegreesPlot.png')   "
   ]
  },
  {
   "cell_type": "code",
   "execution_count": null,
   "metadata": {
    "scrolled": true
   },
   "outputs": [],
   "source": [
    "# Plot angles in radians\n",
    "plt.figure( figsize=(15, 5) )\n",
    "plt.title('Angle vs Time')\n",
    "plt.xlabel('Time (s)')\n",
    "plt.ylabel('Angle (radians)')\n",
    "plt.grid()\n",
    "\n",
    "# Plot successes\n",
    "(rowCount, colCount) = angleData.shape\n",
    "for colNum in range(colCount):\n",
    "    plt.plot(t, angleData.iloc[:, colNum], 'b')     \n",
    "  \n",
    "# Plot failures\n",
    "(rowCount, colCount) = angleFailureData.shape  \n",
    "for colNum in range(colCount):\n",
    "    plt.plot(t, angleFailureData.iloc[:, colNum], 'r')\n",
    "\n",
    "plt.savefig('AngleRadiansPlot.png')   "
   ]
  },
  {
   "cell_type": "markdown",
   "metadata": {},
   "source": [
    "### Plotting stretch over time"
   ]
  },
  {
   "cell_type": "code",
   "execution_count": null,
   "metadata": {
    "scrolled": true
   },
   "outputs": [],
   "source": [
    "plt.figure( figsize=(15,5) )\n",
    "plt.title('Stretch vs Time')\n",
    "plt.xlabel('Time (s)')\n",
    "plt.ylabel('Stretch (m)')\n",
    "plt.grid()\n",
    "\n",
    "# Plot successes\n",
    "(rowCount, colCount) = stretchData.shape\n",
    "for colNum in range(colCount):\n",
    "    col = stretchData.iloc[:, colNum]\n",
    "    plt.plot(t, col, 'b')\n",
    "  \n",
    "# Plot failures\n",
    "(rowCount, colCount) = stretchFailureData.shape  \n",
    "for colNum in range(colCount):\n",
    "    col = stretchFailureData.iloc[:, colNum]\n",
    "    plt.plot(t, col, 'r')\n",
    "\n",
    "plt.savefig('StretchPlot.png')"
   ]
  }
 ],
 "metadata": {
  "kernelspec": {
   "display_name": "Python 3",
   "language": "python",
   "name": "python3"
  },
  "language_info": {
   "codemirror_mode": {
    "name": "ipython",
    "version": 3
   },
   "file_extension": ".py",
   "mimetype": "text/x-python",
   "name": "python",
   "nbconvert_exporter": "python",
   "pygments_lexer": "ipython3",
   "version": "3.5.4"
  }
 },
 "nbformat": 4,
 "nbformat_minor": 2
}
