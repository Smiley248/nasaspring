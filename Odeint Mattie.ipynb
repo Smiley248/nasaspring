{
 "cells": [
  {
   "cell_type": "code",
   "execution_count": null,
   "metadata": {
    "collapsed": true
   },
   "outputs": [],
   "source": [
    "from scipy.integrate import odeint\n",
    "import numpy as np\n",
    "import matplotlib.pyplot as plt\n",
    "from scipy.stats import norm\n",
    "import math\n",
    "\n",
    "# Solve x'' + (k/m)x - (l+x)(theta)^2 - gcos(theta) = 0, (theta)^2 + (gsin(theta) - 2x'theta')/(l+x)) = 0\n",
    "\n",
    "# Convert to system of 1st order:\n",
    "# y1' = y2 \n",
    "# y2' = (-k/m)*y1 + (l+y1)*(y3)^2 + g*cos(y3)\n",
    "# y3' = y4\n",
    "# y4' = (-g*sin(y3) - 2*y2*y4)/(l+y1)\n",
    "\n",
    "def pend(y, t):\n",
    "\ty1, y2, y3, y4 = y\n",
    "\tdydt = [y2, (-k/m)*y1 + (l+y1)*(y3)^2 + g*math.cos(y3), y4, (-g*math.sin(y3) - 2*y2*y4)/(l+y1)]\n",
    "\treturn dydt\n",
    "\n",
    "m=(norm.rvs(1, 0.1))                      # pendulum mass (kilograms)\n",
    "k=(norm.rvs(30, 0.25))                    # spring constant (Newtons/meter)\n",
    "g=(norm.rvs(9.8, 0.1))                    # acceleration from gravity (meters/second^2)\n",
    "l=(norm.rvs(1, 0.1))                      # unstretched pendulum length (meters)\n",
    "xIni=(norm.rvs(0.1, 0.01))                # initial stretch (meters)\n",
    "xIniPri=(norm.rvs(0.1, 0.01))             # initial rate of change in stretch (meters/second)\n",
    "thetaIni=(norm.rvs(0.5, 0.01))            # initial angle of swing (degrees)\n",
    "thetaIniPri=(norm.rvs(0.1, 0.01))         # initial rate of change in angle (degrees/second)\n",
    "\n",
    "y0=[xIni, xIniPri, thetaIni, thetaIniPri]\n",
    "\n",
    "t = np.linspace(0,60,0.1)\n",
    "\n",
    "sol = odeint(pend, y0, t)\n",
    "\n",
    "plt.plot(t, sol[:, 0], 'b', label='y1(t)')\n",
    "plt.plot(t, sol[:, 1], 'g', label='y2(t)')\n",
    "plt.plot(t, sol[:, 2], 'r', label='y3(t)')\n",
    "plt.plot(t, sol[:, 3], 'y', label='y4(t)')\n",
    "plt.legend(loc='best')\n",
    "plt.xlabel('t')\n",
    "plt.grid()\n",
    "plt.show()\n",
    "\n",
    "# solution is: sol[:,0]\n",
    "# analyze that list for \"performance metric\"\n",
    "\n",
    "\n",
    "# run the code(parameter1, 2 , 3 ,..., 8) --> output 1 or 0 (success/fail) \n",
    "# store parameters 1-8 and the success \n",
    "# repeat 85589479034902835902856908239058903854903 times"
   ]
  }
 ],
 "metadata": {
  "kernelspec": {
   "display_name": "Python 3",
   "language": "python",
   "name": "python3"
  },
  "language_info": {
   "codemirror_mode": {
    "name": "ipython",
    "version": 3
   },
   "file_extension": ".py",
   "mimetype": "text/x-python",
   "name": "python",
   "nbconvert_exporter": "python",
   "pygments_lexer": "ipython3",
   "version": "3.6.1"
  }
 },
 "nbformat": 4,
 "nbformat_minor": 2
}
