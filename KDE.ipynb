{
 "cells": [
  {
   "cell_type": "code",
   "execution_count": null,
   "metadata": {},
   "outputs": [],
   "source": [
    "import pandas as pd\n",
    "import numpy as np\n",
    "import matplotlib.pyplot as plt\n",
    "from sklearn.neighbors.kde import KernelDensity"
   ]
  },
  {
   "cell_type": "markdown",
   "metadata": {},
   "source": [
    "# Load and format the data\n",
    "Indicate the name of the data input csv file in the next cell.<br>\n",
    "Data file must have both row and column headers, a row for each trial, and a column for each parameter.<br>\n",
    "The last column must be for the classification, and must contain either the integer 0 or 1 only."
   ]
  },
  {
   "cell_type": "code",
   "execution_count": null,
   "metadata": {},
   "outputs": [],
   "source": [
    "dataFileName = 'ParameterData.csv'"
   ]
  },
  {
   "cell_type": "code",
   "execution_count": null,
   "metadata": {},
   "outputs": [],
   "source": [
    "# Load the saved data into a data frame\n",
    "dataFrame = pd.read_csv( dataFileName, header=0, index_col=0, sep=',' )"
   ]
  },
  {
   "cell_type": "code",
   "execution_count": null,
   "metadata": {},
   "outputs": [],
   "source": [
    "# Group by classification\n",
    "groups = dataFrame.groupby( dataFrame.columns[-1] )\n",
    "successGroup = groups.get_group(1)\n",
    "failureGroup = groups.get_group(0)"
   ]
  },
  {
   "cell_type": "code",
   "execution_count": null,
   "metadata": {},
   "outputs": [],
   "source": [
    "# List of column headers for indexing and labels\n",
    "params = dataFrame.columns.tolist()[:-1]"
   ]
  },
  {
   "cell_type": "markdown",
   "metadata": {},
   "source": [
    "# Plot\n",
    "Define the arguments in the next cell for the kernel and bandwidth."
   ]
  },
  {
   "cell_type": "code",
   "execution_count": null,
   "metadata": {},
   "outputs": [],
   "source": [
    "kernel = 'gaussian'\n",
    "bandwidth = 0.1"
   ]
  },
  {
   "cell_type": "code",
   "execution_count": null,
   "metadata": {
    "scrolled": false
   },
   "outputs": [],
   "source": [
    "plt.rc('font', size=20)\n",
    "plt.rcParams.update({'figure.autolayout': True})\n",
    "\n",
    "for num in range(len(params)):\n",
    "    \n",
    "    param = params[num]\n",
    "    successes = successGroup[param]\n",
    "    failures = failureGroup[param]\n",
    "    plt.figure( figsize=(7,5))\n",
    "    \n",
    "    # Create the np.linspace array of x-values for plotting\n",
    "    minX = min(successes)\n",
    "    maxX = max(successes)\n",
    "        \n",
    "    if min(failures) < minX:\n",
    "        minX = min(failures)\n",
    "\n",
    "    if max(failures) > maxX:\n",
    "        maxX = max(failures)\n",
    "\n",
    "    xArray = np.linspace(minX, maxX, 100) \n",
    "        \n",
    "    # Fit the kernel density models     \n",
    "    successKDE = KernelDensity( kernel=kernel, bandwidth=bandwidth ).fit( successes.values.reshape(-1,1) )     \n",
    "    failureKDE = KernelDensity( kernel=kernel, bandwidth=bandwidth ).fit( failures.values.reshape(-1,1) )\n",
    "        \n",
    "    # Get an array of the log densities for the xArray for graphing   \n",
    "    successLogScores = successKDE.score_samples( xArray.reshape(-1,1) )                     \n",
    "    failureLogScores = failureKDE.score_samples( xArray.reshape(-1,1) )\n",
    "\n",
    "    # Plot KDE's\n",
    "    line_1 = plt.plot(xArray, np.exp(successLogScores), color='green', linewidth=4, alpha=0.8)\n",
    "    line_2 = plt.plot(xArray, np.exp(failureLogScores), color='red', linewidth=4, alpha=0.8)\n",
    "    \n",
    "    # Plot some of the successes and failures along the bottom for visual comparison to the KDES generated\n",
    "    maxY = max( line_1[0].get_ydata() )\n",
    "    \n",
    "    if max( line_2[0].get_ydata() ) > maxY:\n",
    "        maxY = max( line_2[0].get_ydata() )\n",
    "    \n",
    "    plt.ylim(0, maxY+0.5)\n",
    "    plt.xlabel(param)\n",
    "    plt.ylabel('Density')\n",
    "    plt.xticks( rotation=45 )\n",
    "    plt.grid()\n",
    "    plt.plot(successes, np.full_like(successes, 0.1), '|k', color='green', markeredgewidth=1.0)\n",
    "    plt.plot(failures, np.full_like(failures, maxY+0.4), '|k', color='red', markeredgewidth=1.0)\n",
    "    plt.savefig('KDE_'+param+'.png')\n",
    "    plt.show()"
   ]
  }
 ],
 "metadata": {
  "kernelspec": {
   "display_name": "Python 3",
   "language": "python",
   "name": "python3"
  },
  "language_info": {
   "codemirror_mode": {
    "name": "ipython",
    "version": 3
   },
   "file_extension": ".py",
   "mimetype": "text/x-python",
   "name": "python",
   "nbconvert_exporter": "python",
   "pygments_lexer": "ipython3",
   "version": "3.5.4"
  }
 },
 "nbformat": 4,
 "nbformat_minor": 2
}
